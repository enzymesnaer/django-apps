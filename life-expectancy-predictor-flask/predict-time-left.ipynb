{
 "cells": [
  {
   "cell_type": "code",
   "execution_count": 4,
   "metadata": {},
   "outputs": [],
   "source": [
    "from IPython.display import Image\n",
    "%matplotlib inline\n",
    "import matplotlib\n",
    "import matplotlib.pyplot as plt\n",
    "import io, base64, os, json, re\n",
    "import pandas as pd\n",
    "import numpy as np"
   ]
  },
  {
   "cell_type": "markdown",
   "metadata": {},
   "source": [
    "## Simple Linear Regression and Predicting Life Expectancy"
   ]
  },
  {
   "cell_type": "markdown",
   "metadata": {},
   "source": [
    "A linear regression model attempts to explain the relationship between two or more variables using a straight line. ReliaSoft’s Experiment Design and Analysis Reference We’re going to use the scipy.stats package for our linear regression. Let’s look at a simple example to illustrate how we can predict using a linear regression. We create a fictitious data set of two life expectancies, one for a newborn and another for a sixty-year-old:"
   ]
  },
  {
   "cell_type": "code",
   "execution_count": 7,
   "metadata": {},
   "outputs": [
    {
     "data": {
      "text/html": [
       "<div>\n",
       "<style scoped>\n",
       "    .dataframe tbody tr th:only-of-type {\n",
       "        vertical-align: middle;\n",
       "    }\n",
       "\n",
       "    .dataframe tbody tr th {\n",
       "        vertical-align: top;\n",
       "    }\n",
       "\n",
       "    .dataframe thead th {\n",
       "        text-align: right;\n",
       "    }\n",
       "</style>\n",
       "<table border=\"1\" class=\"dataframe\">\n",
       "  <thead>\n",
       "    <tr style=\"text-align: right;\">\n",
       "      <th></th>\n",
       "      <th>Age</th>\n",
       "      <th>Life Expectancy</th>\n",
       "    </tr>\n",
       "  </thead>\n",
       "  <tbody>\n",
       "    <tr>\n",
       "      <th>0</th>\n",
       "      <td>0</td>\n",
       "      <td>90</td>\n",
       "    </tr>\n",
       "    <tr>\n",
       "      <th>1</th>\n",
       "      <td>60</td>\n",
       "      <td>30</td>\n",
       "    </tr>\n",
       "  </tbody>\n",
       "</table>\n",
       "</div>"
      ],
      "text/plain": [
       "   Age  Life Expectancy\n",
       "0    0               90\n",
       "1   60               30"
      ]
     },
     "execution_count": 7,
     "metadata": {},
     "output_type": "execute_result"
    }
   ],
   "source": [
    "# create fictitious dataset\n",
    "\n",
    "simple_life_dataset = pd.DataFrame({\n",
    "    'Age':[0,60],\n",
    "    'Life Expectancy': [90, 30]\n",
    "})\n",
    "\n",
    "simple_life_dataset.head()"
   ]
  },
  {
   "cell_type": "markdown",
   "metadata": {},
   "source": [
    "Now we feed that data into the stats.linregress function. We’ll only use two of its outputs, the slope and intercept. Those two values and the y = mx+b line equation, will give us everything we need to estimate life-expectancy for any age."
   ]
  },
  {
   "cell_type": "code",
   "execution_count": 8,
   "metadata": {},
   "outputs": [
    {
     "name": "stdout",
     "output_type": "stream",
     "text": [
      "intercept:  90.0\n",
      "slope:  -1.0\n"
     ]
    }
   ],
   "source": [
    "import numpy as np\n",
    "from scipy import stats\n",
    "slope, intercept, r_value, p_value, std_err = stats.linregress(simple_life_dataset['Age'],simple_life_dataset['Life Expectancy'])\n",
    "print('intercept: ', intercept)\n",
    "print('slope: ', slope)"
   ]
  },
  {
   "cell_type": "markdown",
   "metadata": {},
   "source": [
    "So, how many years left of life for a 20-year old according to our fictitious data? We apply the stats.linregress outputs to the y = mx+b line equation:\n",
    "### Life Expectancy Estimate = Slope * Age + Intercept"
   ]
  },
  {
   "cell_type": "code",
   "execution_count": 9,
   "metadata": {},
   "outputs": [
    {
     "data": {
      "text/plain": [
       "70.0"
      ]
     },
     "execution_count": 9,
     "metadata": {},
     "output_type": "execute_result"
    }
   ],
   "source": [
    "np.ceil(slope * 20 + intercept)"
   ]
  },
  {
   "cell_type": "markdown",
   "metadata": {},
   "source": [
    "We get 70 years of life left. And if we plot our fictitious data set along with our new estimate:"
   ]
  },
  {
   "cell_type": "code",
   "execution_count": 11,
   "metadata": {},
   "outputs": [
    {
     "data": {
      "image/png": "[encoded data removed]",
      "text/plain": [
       "<Figure size 360x360 with 1 Axes>"
      ]
     },
     "metadata": {
      "needs_background": "light"
     },
     "output_type": "display_data"
    }
   ],
   "source": [
    "fig, axes = plt.subplots(figsize=(5,5))\n",
    "x = [0,20,60]\n",
    "y = [90, 70, 30]\n",
    "axes.plot(x,y, color='blue', linestyle='--', marker='o')\n",
    "fig.suptitle('Life Expectancy')\n",
    "axes.set_xlabel('age')\n",
    "axes.set_xlim([-5,100])\n",
    "axes.set_ylabel('life_expectancy')\n",
    "axes.set_ylim([0,100])\n",
    "plt.grid()\n",
    "plt.show()"
   ]
  },
  {
   "cell_type": "markdown",
   "metadata": {},
   "source": [
    "The linear relationship between age and life expectancy according to our fictitious data"
   ]
  },
  {
   "cell_type": "markdown",
   "metadata": {},
   "source": [
    "### WHO Mortality Data"
   ]
  },
  {
   "cell_type": "code",
   "execution_count": 13,
   "metadata": {},
   "outputs": [],
   "source": [
    "who_list = pd.read_csv('http://apps.who.int/gho/athena/data/GHO/WHOSIS_000001,WHOSIS_000015?filter=COUNTRY:*&x-sideaxis=COUNTRY;YEAR&x-topaxis=GHO;SEX&profile=verbose&format=csv')\n",
    "\n",
    "who_list.to_csv('WHOIS_data.csv')\n"
   ]
  },
  {
   "cell_type": "code",
   "execution_count": 16,
   "metadata": {},
   "outputs": [
    {
     "data": {
      "text/html": [
       "<div>\n",
       "<style scoped>\n",
       "    .dataframe tbody tr th:only-of-type {\n",
       "        vertical-align: middle;\n",
       "    }\n",
       "\n",
       "    .dataframe tbody tr th {\n",
       "        vertical-align: top;\n",
       "    }\n",
       "\n",
       "    .dataframe thead th {\n",
       "        text-align: right;\n",
       "    }\n",
       "</style>\n",
       "<table border=\"1\" class=\"dataframe\">\n",
       "  <thead>\n",
       "    <tr style=\"text-align: right;\">\n",
       "      <th></th>\n",
       "      <th>GHO (CODE)</th>\n",
       "      <th>GHO (DISPLAY)</th>\n",
       "      <th>GHO (URL)</th>\n",
       "      <th>PUBLISHSTATE (CODE)</th>\n",
       "      <th>PUBLISHSTATE (DISPLAY)</th>\n",
       "      <th>PUBLISHSTATE (URL)</th>\n",
       "      <th>YEAR (CODE)</th>\n",
       "      <th>YEAR (DISPLAY)</th>\n",
       "      <th>YEAR (URL)</th>\n",
       "      <th>REGION (CODE)</th>\n",
       "      <th>...</th>\n",
       "      <th>SEX (CODE)</th>\n",
       "      <th>SEX (DISPLAY)</th>\n",
       "      <th>SEX (URL)</th>\n",
       "      <th>Display Value</th>\n",
       "      <th>Numeric</th>\n",
       "      <th>Low</th>\n",
       "      <th>High</th>\n",
       "      <th>StdErr</th>\n",
       "      <th>StdDev</th>\n",
       "      <th>Comments</th>\n",
       "    </tr>\n",
       "  </thead>\n",
       "  <tbody>\n",
       "    <tr>\n",
       "      <th>0</th>\n",
       "      <td>WHOSIS_000015</td>\n",
       "      <td>Life expectancy at age 60 (years)</td>\n",
       "      <td>https://www.who.int/data/gho/indicator-metadat...</td>\n",
       "      <td>PUBLISHED</td>\n",
       "      <td>Published</td>\n",
       "      <td>NaN</td>\n",
       "      <td>2002</td>\n",
       "      <td>2002</td>\n",
       "      <td>NaN</td>\n",
       "      <td>AFR</td>\n",
       "      <td>...</td>\n",
       "      <td>FMLE</td>\n",
       "      <td>Female</td>\n",
       "      <td>NaN</td>\n",
       "      <td>15.5</td>\n",
       "      <td>15.50821</td>\n",
       "      <td>NaN</td>\n",
       "      <td>NaN</td>\n",
       "      <td>NaN</td>\n",
       "      <td>NaN</td>\n",
       "      <td>NaN</td>\n",
       "    </tr>\n",
       "    <tr>\n",
       "      <th>1</th>\n",
       "      <td>WHOSIS_000001</td>\n",
       "      <td>Life expectancy at birth (years)</td>\n",
       "      <td>https://www.who.int/data/gho/indicator-metadat...</td>\n",
       "      <td>PUBLISHED</td>\n",
       "      <td>Published</td>\n",
       "      <td>NaN</td>\n",
       "      <td>2005</td>\n",
       "      <td>2005</td>\n",
       "      <td>NaN</td>\n",
       "      <td>AFR</td>\n",
       "      <td>...</td>\n",
       "      <td>FMLE</td>\n",
       "      <td>Female</td>\n",
       "      <td>NaN</td>\n",
       "      <td>57.1</td>\n",
       "      <td>57.07021</td>\n",
       "      <td>NaN</td>\n",
       "      <td>NaN</td>\n",
       "      <td>NaN</td>\n",
       "      <td>NaN</td>\n",
       "      <td>NaN</td>\n",
       "    </tr>\n",
       "    <tr>\n",
       "      <th>2</th>\n",
       "      <td>WHOSIS_000015</td>\n",
       "      <td>Life expectancy at age 60 (years)</td>\n",
       "      <td>https://www.who.int/data/gho/indicator-metadat...</td>\n",
       "      <td>PUBLISHED</td>\n",
       "      <td>Published</td>\n",
       "      <td>NaN</td>\n",
       "      <td>2008</td>\n",
       "      <td>2008</td>\n",
       "      <td>NaN</td>\n",
       "      <td>AFR</td>\n",
       "      <td>...</td>\n",
       "      <td>MLE</td>\n",
       "      <td>Male</td>\n",
       "      <td>NaN</td>\n",
       "      <td>15.6</td>\n",
       "      <td>15.57488</td>\n",
       "      <td>NaN</td>\n",
       "      <td>NaN</td>\n",
       "      <td>NaN</td>\n",
       "      <td>NaN</td>\n",
       "      <td>NaN</td>\n",
       "    </tr>\n",
       "    <tr>\n",
       "      <th>3</th>\n",
       "      <td>WHOSIS_000001</td>\n",
       "      <td>Life expectancy at birth (years)</td>\n",
       "      <td>https://www.who.int/data/gho/indicator-metadat...</td>\n",
       "      <td>PUBLISHED</td>\n",
       "      <td>Published</td>\n",
       "      <td>NaN</td>\n",
       "      <td>2011</td>\n",
       "      <td>2011</td>\n",
       "      <td>NaN</td>\n",
       "      <td>AFR</td>\n",
       "      <td>...</td>\n",
       "      <td>MLE</td>\n",
       "      <td>Male</td>\n",
       "      <td>NaN</td>\n",
       "      <td>58.9</td>\n",
       "      <td>58.90235</td>\n",
       "      <td>NaN</td>\n",
       "      <td>NaN</td>\n",
       "      <td>NaN</td>\n",
       "      <td>NaN</td>\n",
       "      <td>NaN</td>\n",
       "    </tr>\n",
       "    <tr>\n",
       "      <th>4</th>\n",
       "      <td>WHOSIS_000001</td>\n",
       "      <td>Life expectancy at birth (years)</td>\n",
       "      <td>https://www.who.int/data/gho/indicator-metadat...</td>\n",
       "      <td>PUBLISHED</td>\n",
       "      <td>Published</td>\n",
       "      <td>NaN</td>\n",
       "      <td>2008</td>\n",
       "      <td>2008</td>\n",
       "      <td>NaN</td>\n",
       "      <td>EMR</td>\n",
       "      <td>...</td>\n",
       "      <td>MLE</td>\n",
       "      <td>Male</td>\n",
       "      <td>NaN</td>\n",
       "      <td>59.0</td>\n",
       "      <td>59.00000</td>\n",
       "      <td>NaN</td>\n",
       "      <td>NaN</td>\n",
       "      <td>NaN</td>\n",
       "      <td>NaN</td>\n",
       "      <td>WHO life table method: World Population Prospe...</td>\n",
       "    </tr>\n",
       "  </tbody>\n",
       "</table>\n",
       "<p>5 rows × 25 columns</p>\n",
       "</div>"
      ],
      "text/plain": [
       "      GHO (CODE)                      GHO (DISPLAY)  \\\n",
       "0  WHOSIS_000015  Life expectancy at age 60 (years)   \n",
       "1  WHOSIS_000001   Life expectancy at birth (years)   \n",
       "2  WHOSIS_000015  Life expectancy at age 60 (years)   \n",
       "3  WHOSIS_000001   Life expectancy at birth (years)   \n",
       "4  WHOSIS_000001   Life expectancy at birth (years)   \n",
       "\n",
       "                                           GHO (URL) PUBLISHSTATE (CODE)  \\\n",
       "0  https://www.who.int/data/gho/indicator-metadat...           PUBLISHED   \n",
       "1  https://www.who.int/data/gho/indicator-metadat...           PUBLISHED   \n",
       "2  https://www.who.int/data/gho/indicator-metadat...           PUBLISHED   \n",
       "3  https://www.who.int/data/gho/indicator-metadat...           PUBLISHED   \n",
       "4  https://www.who.int/data/gho/indicator-metadat...           PUBLISHED   \n",
       "\n",
       "  PUBLISHSTATE (DISPLAY)  PUBLISHSTATE (URL)  YEAR (CODE)  YEAR (DISPLAY)  \\\n",
       "0              Published                 NaN         2002            2002   \n",
       "1              Published                 NaN         2005            2005   \n",
       "2              Published                 NaN         2008            2008   \n",
       "3              Published                 NaN         2011            2011   \n",
       "4              Published                 NaN         2008            2008   \n",
       "\n",
       "   YEAR (URL) REGION (CODE)  ... SEX (CODE)  SEX (DISPLAY) SEX (URL)  \\\n",
       "0         NaN           AFR  ...       FMLE         Female       NaN   \n",
       "1         NaN           AFR  ...       FMLE         Female       NaN   \n",
       "2         NaN           AFR  ...        MLE           Male       NaN   \n",
       "3         NaN           AFR  ...        MLE           Male       NaN   \n",
       "4         NaN           EMR  ...        MLE           Male       NaN   \n",
       "\n",
       "  Display Value   Numeric Low High  StdErr  StdDev  \\\n",
       "0          15.5  15.50821 NaN  NaN     NaN     NaN   \n",
       "1          57.1  57.07021 NaN  NaN     NaN     NaN   \n",
       "2          15.6  15.57488 NaN  NaN     NaN     NaN   \n",
       "3          58.9  58.90235 NaN  NaN     NaN     NaN   \n",
       "4          59.0  59.00000 NaN  NaN     NaN     NaN   \n",
       "\n",
       "                                            Comments  \n",
       "0                                                NaN  \n",
       "1                                                NaN  \n",
       "2                                                NaN  \n",
       "3                                                NaN  \n",
       "4  WHO life table method: World Population Prospe...  \n",
       "\n",
       "[5 rows x 25 columns]"
      ]
     },
     "execution_count": 16,
     "metadata": {},
     "output_type": "execute_result"
    }
   ],
   "source": [
    "who_list.head()"
   ]
  },
  {
   "cell_type": "code",
   "execution_count": 17,
   "metadata": {},
   "outputs": [
    {
     "name": "stderr",
     "output_type": "stream",
     "text": [
      "C:\\ProgramData\\Anaconda3\\lib\\site-packages\\ipykernel_launcher.py:3: SettingWithCopyWarning: \n",
      "A value is trying to be set on a copy of a slice from a DataFrame.\n",
      "Try using .loc[row_indexer,col_indexer] = value instead\n",
      "\n",
      "See the caveats in the documentation: https://pandas.pydata.org/pandas-docs/stable/user_guide/indexing.html#returning-a-view-versus-a-copy\n",
      "  This is separate from the ipykernel package so we can avoid doing imports until\n"
     ]
    },
    {
     "data": {
      "text/html": [
       "<div>\n",
       "<style scoped>\n",
       "    .dataframe tbody tr th:only-of-type {\n",
       "        vertical-align: middle;\n",
       "    }\n",
       "\n",
       "    .dataframe tbody tr th {\n",
       "        vertical-align: top;\n",
       "    }\n",
       "\n",
       "    .dataframe thead th {\n",
       "        text-align: right;\n",
       "    }\n",
       "</style>\n",
       "<table border=\"1\" class=\"dataframe\">\n",
       "  <thead>\n",
       "    <tr style=\"text-align: right;\">\n",
       "      <th></th>\n",
       "      <th>GHO (DISPLAY)</th>\n",
       "      <th>YEAR (CODE)</th>\n",
       "      <th>COUNTRY (DISPLAY)</th>\n",
       "      <th>SEX (DISPLAY)</th>\n",
       "      <th>Numeric</th>\n",
       "    </tr>\n",
       "  </thead>\n",
       "  <tbody>\n",
       "    <tr>\n",
       "      <th>260</th>\n",
       "      <td>Life expectancy at birth (years)</td>\n",
       "      <td>2002</td>\n",
       "      <td>India</td>\n",
       "      <td>Male</td>\n",
       "      <td>62.70160</td>\n",
       "    </tr>\n",
       "    <tr>\n",
       "      <th>261</th>\n",
       "      <td>Life expectancy at birth (years)</td>\n",
       "      <td>2005</td>\n",
       "      <td>India</td>\n",
       "      <td>Male</td>\n",
       "      <td>63.87052</td>\n",
       "    </tr>\n",
       "    <tr>\n",
       "      <th>262</th>\n",
       "      <td>Life expectancy at birth (years)</td>\n",
       "      <td>2004</td>\n",
       "      <td>India</td>\n",
       "      <td>Female</td>\n",
       "      <td>64.63663</td>\n",
       "    </tr>\n",
       "    <tr>\n",
       "      <th>263</th>\n",
       "      <td>Life expectancy at birth (years)</td>\n",
       "      <td>2001</td>\n",
       "      <td>India</td>\n",
       "      <td>Both sexes</td>\n",
       "      <td>62.85001</td>\n",
       "    </tr>\n",
       "    <tr>\n",
       "      <th>672</th>\n",
       "      <td>Life expectancy at birth (years)</td>\n",
       "      <td>2007</td>\n",
       "      <td>India</td>\n",
       "      <td>Female</td>\n",
       "      <td>65.93420</td>\n",
       "    </tr>\n",
       "    <tr>\n",
       "      <th>673</th>\n",
       "      <td>Life expectancy at birth (years)</td>\n",
       "      <td>2016</td>\n",
       "      <td>India</td>\n",
       "      <td>Female</td>\n",
       "      <td>70.33931</td>\n",
       "    </tr>\n",
       "    <tr>\n",
       "      <th>674</th>\n",
       "      <td>Life expectancy at birth (years)</td>\n",
       "      <td>2012</td>\n",
       "      <td>India</td>\n",
       "      <td>Both sexes</td>\n",
       "      <td>67.48958</td>\n",
       "    </tr>\n",
       "    <tr>\n",
       "      <th>1080</th>\n",
       "      <td>Life expectancy at birth (years)</td>\n",
       "      <td>2011</td>\n",
       "      <td>India</td>\n",
       "      <td>Male</td>\n",
       "      <td>66.06249</td>\n",
       "    </tr>\n",
       "    <tr>\n",
       "      <th>1081</th>\n",
       "      <td>Life expectancy at birth (years)</td>\n",
       "      <td>2014</td>\n",
       "      <td>India</td>\n",
       "      <td>Male</td>\n",
       "      <td>66.85132</td>\n",
       "    </tr>\n",
       "    <tr>\n",
       "      <th>1082</th>\n",
       "      <td>Life expectancy at birth (years)</td>\n",
       "      <td>2010</td>\n",
       "      <td>India</td>\n",
       "      <td>Female</td>\n",
       "      <td>67.62952</td>\n",
       "    </tr>\n",
       "  </tbody>\n",
       "</table>\n",
       "</div>"
      ],
      "text/plain": [
       "                         GHO (DISPLAY)  YEAR (CODE) COUNTRY (DISPLAY)  \\\n",
       "260   Life expectancy at birth (years)         2002             India   \n",
       "261   Life expectancy at birth (years)         2005             India   \n",
       "262   Life expectancy at birth (years)         2004             India   \n",
       "263   Life expectancy at birth (years)         2001             India   \n",
       "672   Life expectancy at birth (years)         2007             India   \n",
       "673   Life expectancy at birth (years)         2016             India   \n",
       "674   Life expectancy at birth (years)         2012             India   \n",
       "1080  Life expectancy at birth (years)         2011             India   \n",
       "1081  Life expectancy at birth (years)         2014             India   \n",
       "1082  Life expectancy at birth (years)         2010             India   \n",
       "\n",
       "     SEX (DISPLAY)   Numeric  \n",
       "260           Male  62.70160  \n",
       "261           Male  63.87052  \n",
       "262         Female  64.63663  \n",
       "263     Both sexes  62.85001  \n",
       "672         Female  65.93420  \n",
       "673         Female  70.33931  \n",
       "674     Both sexes  67.48958  \n",
       "1080          Male  66.06249  \n",
       "1081          Male  66.85132  \n",
       "1082        Female  67.62952  "
      ]
     },
     "execution_count": 17,
     "metadata": {},
     "output_type": "execute_result"
    }
   ],
   "source": [
    "who_list = who_list[['GHO (DISPLAY)', 'YEAR (CODE)', 'COUNTRY (DISPLAY)', 'SEX (DISPLAY)','Numeric']]\n",
    "\n",
    "who_list['COUNTRY (DISPLAY)'] = [ctry.title() for ctry in who_list['COUNTRY (DISPLAY)'].values]\n",
    "\n",
    "who_list[who_list['COUNTRY (DISPLAY)'] == 'India'].head(10)"
   ]
  },
  {
   "cell_type": "markdown",
   "metadata": {},
   "source": [
    "The life expectancy of a new born male in the India, is 66 years, while a 60-year-old male in the India using the latest data is 10 years which totals 70 years, what gives? That’s one of the complexities of statistics, taking averages for a sixty-year-old implies that this person already survived 60 years, this is called Survivorship bias. And what it means for us here, is that the model will be slightly pessimistic for those closer to zero and slightly optimistic for those closer to 60."
   ]
  },
  {
   "cell_type": "code",
   "execution_count": 18,
   "metadata": {},
   "outputs": [
    {
     "name": "stdout",
     "output_type": "stream",
     "text": [
      "sub_set_birth:\n",
      "                          GHO (DISPLAY)  YEAR (CODE) COUNTRY (DISPLAY)  \\\n",
      "16235  Life expectancy at birth (years)         2016             India   \n",
      "7501   Life expectancy at birth (years)         2015             India   \n",
      "1081   Life expectancy at birth (years)         2014             India   \n",
      "15429  Life expectancy at birth (years)         2013             India   \n",
      "7109   Life expectancy at birth (years)         2012             India   \n",
      "\n",
      "      SEX (DISPLAY)   Numeric  \n",
      "16235          Male  67.43705  \n",
      "7501           Male  67.13872  \n",
      "1081           Male  66.85132  \n",
      "15429          Male  66.56700  \n",
      "7109           Male  66.33167  \n",
      "sub_set_60:\n",
      "                           GHO (DISPLAY)  YEAR (CODE) COUNTRY (DISPLAY)  \\\n",
      "4147   Life expectancy at age 60 (years)         2016             India   \n",
      "11643  Life expectancy at age 60 (years)         2015             India   \n",
      "11642  Life expectancy at age 60 (years)         2014             India   \n",
      "4561   Life expectancy at age 60 (years)         2013             India   \n",
      "17516  Life expectancy at age 60 (years)         2012             India   \n",
      "\n",
      "      SEX (DISPLAY)   Numeric  \n",
      "4147           Male  17.24124  \n",
      "11643          Male  17.18473  \n",
      "11642          Male  17.12506  \n",
      "4561           Male  17.05474  \n",
      "17516          Male  16.98364  \n"
     ]
    }
   ],
   "source": [
    "country ='India'\n",
    "sex = 'Male'\n",
    "# pull latest entries for birth and 60 years for a country and gender\n",
    "sub_set = who_list[who_list['COUNTRY (DISPLAY)'].str.startswith(country, na=False)]\n",
    "sub_set = sub_set[sub_set['SEX (DISPLAY)'] == sex]\n",
    "\n",
    "# sort by year in descending order to work with the latest read\n",
    "sub_set = sub_set.sort_values('YEAR (CODE)', ascending=False)\n",
    "sub_set_birth = sub_set[sub_set['GHO (DISPLAY)'] == 'Life expectancy at birth (years)']\n",
    "sub_set_60 = sub_set[sub_set['GHO (DISPLAY)'] == 'Life expectancy at age 60 (years)']\n",
    "\n",
    "print('sub_set_birth:')\n",
    "print(sub_set_birth.head())\n",
    "print('sub_set_60:')\n",
    "print(sub_set_60.head())\n",
    "\n",
    "\n"
   ]
  },
  {
   "cell_type": "markdown",
   "metadata": {},
   "source": [
    "#### Let’s pull the two latest data points from the WHO data set and plot it out:`"
   ]
  },
  {
   "cell_type": "code",
   "execution_count": 22,
   "metadata": {},
   "outputs": [
    {
     "data": {
      "image/png": "[encoded data removed]",
      "text/plain": [
       "<Figure size 360x360 with 1 Axes>"
      ]
     },
     "metadata": {
      "needs_background": "light"
     },
     "output_type": "display_data"
    }
   ],
   "source": [
    "lf_at_birth = sub_set_birth['Numeric'].values[0]\n",
    "lf_at_60 = sub_set_60['Numeric'].values[0]\n",
    "\n",
    "age = [0,60]\n",
    "life_expectancy = [lf_at_birth, lf_at_60]\n",
    "fig, axes = plt.subplots(figsize=(5,5))\n",
    "x = age\n",
    "y = life_expectancy\n",
    "\n",
    "axes.plot(x, y, color='blue', linestyle='--', marker='o')\n",
    "fig.suptitle('Life Expectancy')\n",
    "axes.set_xlim(-5, 100)\n",
    "axes.set_ylim(0, 100)\n",
    "axes.set_xlabel('age')\n",
    "axes.set_ylabel('life expectancy')\n",
    "\n",
    "plt.grid()\n",
    "plt.show()\n"
   ]
  },
  {
   "cell_type": "code",
   "execution_count": 23,
   "metadata": {},
   "outputs": [
    {
     "name": "stdout",
     "output_type": "stream",
     "text": [
      "intercept:  67.43705\n",
      "slope:  -0.8365968333333335\n"
     ]
    },
    {
     "data": {
      "text/plain": [
       "47.0"
      ]
     },
     "execution_count": 23,
     "metadata": {},
     "output_type": "execute_result"
    }
   ],
   "source": [
    "# my life expectancy model\n",
    "slope, intercept, r_value, p_value, std_err = stats.linregress(age, life_expectancy)\n",
    "print('intercept: ', intercept)\n",
    "print('slope: ', slope)\n",
    "\n",
    "# predicting the life expecctncy of a 25 year old in INdia\n",
    "np.ceil(slope * 25 + intercept)"
   ]
  },
  {
   "cell_type": "markdown",
   "metadata": {},
   "source": [
    "47 f** *** more years, ** **** ** *** **  *** *****! Now, let’s wrap all the above code into a function so we can easily predict other ages with other parameters (and this will make our lives much easier when we port this out to Flask)."
   ]
  },
  {
   "cell_type": "code",
   "execution_count": 24,
   "metadata": {},
   "outputs": [],
   "source": [
    "def get_life_expectancy(age, country, sex):\n",
    "    # pull latest entries for birth and 60 years\n",
    "    sub_set = who_list[who_list['COUNTRY (DISPLAY)'].str.startswith(country, na=False)]\n",
    "    sub_set = sub_set[sub_set['SEX (DISPLAY)'] == sex]\n",
    "    sub_set = sub_set.sort_values('YEAR (CODE)', ascending=False)\n",
    "    sub_set_birth = sub_set[sub_set['GHO (DISPLAY)'] == 'Life expectancy at birth (years)']\n",
    "    sub_set_60 = sub_set[sub_set['GHO (DISPLAY)'] == 'Life expectancy at age 60 (years)']\n",
    "    \n",
    "    # not all combinations exists so check that we have daata for both\n",
    "    if len(sub_set_birth['Numeric']) > 0  and len(sub_set_60['Numeric']) > 0:\n",
    "        lf_at_birth = sub_set_birth['Numeric'].values[0]\n",
    "        lf_at_60 = sub_set_60['Numeric'].values[0]\n",
    "        \n",
    "        #model\n",
    "        \n",
    "        slope, intercept, r_value, p_value, std_err = stats.linregress([0,60],[lf_at_birth,lf_at_60])\n",
    "        \n",
    "        return(np.ceil(slope * age + intercept))\n",
    "    else:\n",
    "        return None\n",
    "    \n",
    "    \n",
    "    \n",
    "    "
   ]
  },
  {
   "cell_type": "code",
   "execution_count": 35,
   "metadata": {},
   "outputs": [],
   "source": [
    "with_i = list(filter(lambda x: x.startswith('I'), list(set(who_list['COUNTRY (DISPLAY)']))))"
   ]
  },
  {
   "cell_type": "code",
   "execution_count": 36,
   "metadata": {},
   "outputs": [
    {
     "data": {
      "text/plain": [
       "['India', 'Israel', 'Ireland', 'Italy', 'Iceland']"
      ]
     },
     "execution_count": 36,
     "metadata": {},
     "output_type": "execute_result"
    }
   ],
   "source": [
    "with_i[0:5]"
   ]
  },
  {
   "cell_type": "code",
   "execution_count": 37,
   "metadata": {},
   "outputs": [
    {
     "data": {
      "text/plain": [
       "43.0"
      ]
     },
     "execution_count": 37,
     "metadata": {},
     "output_type": "execute_result"
    }
   ],
   "source": [
    "# test the functions out using a 30-year-old Indian male:\n",
    "get_life_expectancy(30, 'India', 'Male')"
   ]
  },
  {
   "cell_type": "code",
   "execution_count": 38,
   "metadata": {},
   "outputs": [],
   "source": [
    "# heading on to pythonanywhere"
   ]
  },
  {
   "cell_type": "code",
   "execution_count": null,
   "metadata": {},
   "outputs": [],
   "source": []
  }
 ],
 "metadata": {
  "kernelspec": {
   "display_name": "Python 3",
   "language": "python",
   "name": "python3"
  },
  "language_info": {
   "codemirror_mode": {
    "name": "ipython",
    "version": 3
   },
   "file_extension": ".py",
   "mimetype": "text/x-python",
   "name": "python",
   "nbconvert_exporter": "python",
   "pygments_lexer": "ipython3",
   "version": "3.7.6"
  }
 },
 "nbformat": 4,
 "nbformat_minor": 4
}
